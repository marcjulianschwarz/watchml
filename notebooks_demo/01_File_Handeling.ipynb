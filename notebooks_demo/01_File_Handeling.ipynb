{
 "cells": [
  {
   "cell_type": "code",
   "execution_count": 3,
   "metadata": {},
   "outputs": [
    {
     "ename": "ModuleNotFoundError",
     "evalue": "No module named 'watch'",
     "output_type": "error",
     "traceback": [
      "\u001b[0;31m---------------------------------------------------------------------------\u001b[0m",
      "\u001b[0;31mModuleNotFoundError\u001b[0m                       Traceback (most recent call last)",
      "\u001b[1;32m/Users/marcjulianschwarz/Mac/Code/Data Science/Projects/watch_data/notebooks_demo/01_File_Handeling.ipynb Cell 1\u001b[0m in \u001b[0;36m1\n\u001b[0;32m----> <a href='vscode-notebook-cell:/Users/marcjulianschwarz/Mac/Code/Data%20Science/Projects/watch_data/notebooks_demo/01_File_Handeling.ipynb#W0sZmlsZQ%3D%3D?line=0'>1</a>\u001b[0m \u001b[39mfrom\u001b[39;00m \u001b[39mwatch\u001b[39;00m\u001b[39m.\u001b[39;00m\u001b[39mdata\u001b[39;00m \u001b[39mimport\u001b[39;00m WatchLoader\n",
      "\u001b[0;31mModuleNotFoundError\u001b[0m: No module named 'watch'"
     ]
    }
   ],
   "source": [
    "from watchml.data import WatchLoader"
   ]
  },
  {
   "cell_type": "code",
   "execution_count": 2,
   "metadata": {},
   "outputs": [
    {
     "ename": "NameError",
     "evalue": "name 'WatchLoader' is not defined",
     "output_type": "error",
     "traceback": [
      "\u001b[0;31m---------------------------------------------------------------------------\u001b[0m",
      "\u001b[0;31mNameError\u001b[0m                                 Traceback (most recent call last)",
      "\u001b[1;32m/Users/marcjulianschwarz/Mac/Code/Data Science/Projects/watch_data/notebooks_demo/01_File_Handeling.ipynb Cell 2\u001b[0m in \u001b[0;36m1\n\u001b[0;32m----> <a href='vscode-notebook-cell:/Users/marcjulianschwarz/Mac/Code/Data%20Science/Projects/watch_data/notebooks_demo/01_File_Handeling.ipynb#W1sZmlsZQ%3D%3D?line=0'>1</a>\u001b[0m wl \u001b[39m=\u001b[39m WatchLoader(\u001b[39m\"\u001b[39m\u001b[39m../data\u001b[39m\u001b[39m\"\u001b[39m, \u001b[39m\"\u001b[39m\u001b[39mmarc\u001b[39m\u001b[39m\"\u001b[39m)\n",
      "\u001b[0;31mNameError\u001b[0m: name 'WatchLoader' is not defined"
     ]
    }
   ],
   "source": [
    "wl = WatchLoader(\"../data\", \"marc\")"
   ]
  },
  {
   "cell_type": "code",
   "execution_count": 8,
   "metadata": {},
   "outputs": [],
   "source": [
    "root = wl.load_export_root()\n",
    "wl.create_record_files(root)"
   ]
  }
 ],
 "metadata": {
  "kernelspec": {
   "display_name": "experimental",
   "language": "python",
   "name": "python3"
  },
  "language_info": {
   "codemirror_mode": {
    "name": "ipython",
    "version": 3
   },
   "file_extension": ".py",
   "mimetype": "text/x-python",
   "name": "python",
   "nbconvert_exporter": "python",
   "pygments_lexer": "ipython3",
   "version": "3.10.4"
  },
  "orig_nbformat": 4
 },
 "nbformat": 4,
 "nbformat_minor": 2
}
